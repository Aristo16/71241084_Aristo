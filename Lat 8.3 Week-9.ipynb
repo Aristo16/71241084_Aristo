{
  "cells": [
    {
      "cell_type": "code",
      "source": [
        "def hapus_spasi_berlebih(teks):\n",
        "    a = ' '.join(teks.strip().split())\n",
        "    return a\n",
        "kalimat = \"saya    tidak   suka  memancing     ikan    \"\n",
        "b = hapus_spasi_berlebih(kalimat)\n",
        "print(b)"
      ],
      "metadata": {
        "id": "LYm3tCMu_aCk",
        "outputId": "71529758-6e64-42c0-a653-10a3a4ffce78",
        "colab": {
          "base_uri": "https://localhost:8080/"
        }
      },
      "execution_count": 3,
      "outputs": [
        {
          "output_type": "stream",
          "name": "stdout",
          "text": [
            "saya tidak suka memancing ikan\n"
          ]
        }
      ]
    }
  ],
  "metadata": {
    "colab": {
      "name": "Selamat Datang di Colab",
      "toc_visible": true,
      "provenance": []
    },
    "kernelspec": {
      "display_name": "Python 3",
      "name": "python3"
    }
  },
  "nbformat": 4,
  "nbformat_minor": 0
}