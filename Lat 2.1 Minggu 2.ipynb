{
  "cells": [
    {
      "cell_type": "code",
      "source": [
        "def berat():\n",
        "    berat = bmi * tinggi ** 2\n",
        "    return berat\n",
        "\n",
        "bmi = int(input(\"BMI yang Anda inginkan berapa? \"))\n",
        "tinggi = float(input(\"Tinggi Anda dalam meter berapa? \"))\n",
        "a = berat()\n",
        "print(f\"Berat badan Anda seharusnya {round(a)} KG\")"
      ],
      "metadata": {
        "id": "SDG1ISUrMd2t",
        "outputId": "173cace2-a87a-40fc-e22f-76b9a8639d4d",
        "colab": {
          "base_uri": "https://localhost:8080/"
        }
      },
      "execution_count": 9,
      "outputs": [
        {
          "output_type": "stream",
          "name": "stdout",
          "text": [
            "BMI yang Anda inginkan berapa? 80\n",
            "Tinggi kamu dalam meter berapa? 167\n",
            "Berat badan Anda seharusnya 2231120 KG\n"
          ]
        }
      ]
    }
  ],
  "metadata": {
    "colab": {
      "name": "Selamat Datang di Colaboratory",
      "toc_visible": true,
      "provenance": []
    },
    "kernelspec": {
      "display_name": "Python 3",
      "name": "python3"
    }
  },
  "nbformat": 4,
  "nbformat_minor": 0
}