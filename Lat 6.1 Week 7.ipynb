{
  "cells": [
    {
      "cell_type": "code",
      "source": [
        "def prima(angka):\n",
        "    if angka < 2:\n",
        "        return False\n",
        "    for i in range(2, int(angka ** 0.5) + 1):\n",
        "        if angka % i == 0:\n",
        "            return False\n",
        "    return True\n",
        "n = int(input(\"Masukkan n : \"))\n",
        "for angka in range(n - 1, 1, -1):\n",
        "    if prima(angka):\n",
        "        print(f\"Bilangan prima terdekat adalah {angka}\")\n",
        "        break"
      ],
      "metadata": {
        "id": "vTQ5HsGbVhQ4",
        "outputId": "fc338f12-3a3c-4d39-d7c1-4e2612d5bf9b",
        "colab": {
          "base_uri": "https://localhost:8080/"
        }
      },
      "execution_count": 4,
      "outputs": [
        {
          "output_type": "stream",
          "name": "stdout",
          "text": [
            "Masukkan n : 21\n",
            "Bilangan prima terdekat adalah 19\n"
          ]
        }
      ]
    }
  ],
  "metadata": {
    "colab": {
      "name": "Selamat Datang di Colaboratory",
      "toc_visible": true,
      "provenance": []
    },
    "kernelspec": {
      "display_name": "Python 3",
      "name": "python3"
    }
  },
  "nbformat": 4,
  "nbformat_minor": 0
}