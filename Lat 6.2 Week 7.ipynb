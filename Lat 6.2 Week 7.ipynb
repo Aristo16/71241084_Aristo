{
  "cells": [
    {
      "cell_type": "code",
      "source": [
        "import math\n",
        "n = int(input(\"Masukkan n\\n>> \"))\n",
        "for i in range (n,0,-1):\n",
        "    print(math.factorial(i), end=\" \")\n",
        "    for j in range(i, 0, -1):\n",
        "        print(j, end=\" \")\n",
        "    print()"
      ],
      "metadata": {
        "id": "_bK8VyRMXyYR",
        "outputId": "4d3a3748-7dd0-4488-cf21-33b7cbd0aaf3",
        "colab": {
          "base_uri": "https://localhost:8080/"
        }
      },
      "execution_count": 5,
      "outputs": [
        {
          "output_type": "stream",
          "name": "stdout",
          "text": [
            "Masukkan n\n",
            ">> 6\n",
            "720 6 5 4 3 2 1 \n",
            "120 5 4 3 2 1 \n",
            "24 4 3 2 1 \n",
            "6 3 2 1 \n",
            "2 2 1 \n",
            "1 1 \n"
          ]
        }
      ]
    }
  ],
  "metadata": {
    "colab": {
      "name": "Selamat Datang di Colaboratory",
      "toc_visible": true,
      "provenance": []
    },
    "kernelspec": {
      "display_name": "Python 3",
      "name": "python3"
    }
  },
  "nbformat": 4,
  "nbformat_minor": 0
}