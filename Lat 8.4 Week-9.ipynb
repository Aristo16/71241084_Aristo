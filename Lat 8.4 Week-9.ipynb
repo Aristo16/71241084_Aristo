{
  "cells": [
    {
      "cell_type": "code",
      "source": [
        "def kata_pendek_panjang(kalimat):\n",
        "    daftar_kata = kalimat.strip().split()\n",
        "    terpendek = daftar_kata[0]\n",
        "    terpanjang = daftar_kata[0]\n",
        "    for i in daftar_kata:\n",
        "        if len(i) < len(terpendek):\n",
        "            terpendek = i\n",
        "        elif len(i) > len(terpanjang):\n",
        "            terpanjang = i\n",
        "    return terpendek, terpanjang\n",
        "kalimat = input(\"Pilih kalimat : \")\n",
        "pendek, panjang = kata_pendek_panjang(kalimat)\n",
        "print(\"Kata pendek :\", pendek)\n",
        "print(\"Kata panjang :\", panjang)"
      ],
      "metadata": {
        "id": "k6-8FDlvWUbl",
        "outputId": "a471d81c-60b6-4187-9325-8084f58c21ac",
        "colab": {
          "base_uri": "https://localhost:8080/",
          "height": 0
        }
      },
      "execution_count": 5,
      "outputs": [
        {
          "output_type": "stream",
          "name": "stdout",
          "text": [
            "Pilih kalimat : red snakes and a black frog in the pool\n",
            "Kata pendek : a\n",
            "Kata panjang : snakes\n"
          ]
        }
      ]
    }
  ],
  "metadata": {
    "colab": {
      "name": "Selamat Datang di Colab",
      "toc_visible": true,
      "provenance": []
    },
    "kernelspec": {
      "display_name": "Python 3",
      "name": "python3"
    }
  },
  "nbformat": 4,
  "nbformat_minor": 0
}