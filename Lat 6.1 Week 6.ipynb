{
  "cells": [
    {
      "cell_type": "code",
      "source": [
        "def perkalian(digit1, digit2) :\n",
        "    hasil = digit1 * digit2\n",
        "    print(f\"{digit1} x {digit2}\", end=\" = \")\n",
        "    for i in range(digit1) :\n",
        "        print(digit2, end=\" \")\n",
        "        if i < digit1 - 1 :\n",
        "            print(\" + \", end=\"\")\n",
        "    print(f\"= {hasil}\")\n",
        "perkalian(6,5)"
      ],
      "metadata": {
        "id": "W5BvvYD3ZHD8",
        "outputId": "89655a6e-18c2-412e-8de2-c5180c832af0",
        "colab": {
          "base_uri": "https://localhost:8080/"
        }
      },
      "execution_count": 4,
      "outputs": [
        {
          "output_type": "stream",
          "name": "stdout",
          "text": [
            "6 x 5 = 5  + 5  + 5  + 5  + 5  + 5 = 30\n"
          ]
        }
      ]
    },
    {
      "cell_type": "code",
      "source": [
        "def perkalian(digit1, digit2) :\n",
        "    hasil = digit1 * digit2\n",
        "    print(f\"{digit1} x {digit2}\", end=\" = \")\n",
        "    for i in range(digit1) :\n",
        "        print(digit2, end=\" \")\n",
        "        if i < digit1 - 1 :\n",
        "            print(\" + \", end=\"\")\n",
        "    print(f\"= {hasil}\")\n",
        "perkalian(7,10)"
      ],
      "metadata": {
        "id": "9mS_1pb-ZrgW",
        "outputId": "180b4314-e1d0-4b76-9f05-243a217874bb",
        "colab": {
          "base_uri": "https://localhost:8080/"
        }
      },
      "execution_count": 5,
      "outputs": [
        {
          "output_type": "stream",
          "name": "stdout",
          "text": [
            "7 x 10 = 10  + 10  + 10  + 10  + 10  + 10  + 10 = 70\n"
          ]
        }
      ]
    }
  ],
  "metadata": {
    "colab": {
      "name": "Selamat Datang di Colaboratory",
      "toc_visible": true,
      "provenance": []
    },
    "kernelspec": {
      "display_name": "Python 3",
      "name": "python3"
    }
  },
  "nbformat": 4,
  "nbformat_minor": 0
}