{
  "cells": [
    {
      "cell_type": "code",
      "source": [
        "# % 10 adalah cara untuk mencari digit paling kanan\n",
        "nilai_a = int(input(\"Digit Kanan 1 :\\n>> \"))\n",
        "nilai_b = int(input(\"Digit Kanan 2 :\\n>> \"))\n",
        "nilai_c = int(input(\"Digit Kanan 3 :\\n>> \"))\n",
        "def cek_digit_belakang(nilai_a,nilai_b, nilai_c):\n",
        "    if (nilai_a % 10 == nilai_b % 10) :\n",
        "        return True\n",
        "    elif (nilai_a % 10 == nilai_c % 10) :\n",
        "        return True\n",
        "    elif (nilai_b %10 == nilai_c %10) :\n",
        "        return True\n",
        "    else :\n",
        "        return False\n",
        "hasilnya = cek_digit_belakang(nilai_a, nilai_b, nilai_c)\n",
        "print(hasilnya)"
      ],
      "metadata": {
        "id": "hN4iwoChRTun",
        "outputId": "7c327849-79fb-484f-f4ec-00f9b618645d",
        "colab": {
          "base_uri": "https://localhost:8080/"
        }
      },
      "execution_count": 24,
      "outputs": [
        {
          "output_type": "stream",
          "name": "stdout",
          "text": [
            "Digit Kanan 1 :\n",
            ">> 30\n",
            "Digit Kanan 2 :\n",
            ">> 20\n",
            "Digit Kanan 3 :\n",
            ">> 18\n",
            "True\n"
          ]
        }
      ]
    },
    {
      "cell_type": "code",
      "source": [
        "# % 10 adalah cara untuk mencari digit paling kanan\n",
        "nilai_a = int(input(\"Digit Kanan 1 :\\n>> \"))\n",
        "nilai_b = int(input(\"Digit Kanan 2 :\\n>> \"))\n",
        "nilai_c = int(input(\"Digit Kanan 3 :\\n>> \"))\n",
        "def cek_digit_belakang(nilai_a,nilai_b, nilai_c):\n",
        "    if (nilai_a % 10 == nilai_b % 10) :\n",
        "        return True\n",
        "    elif (nilai_a % 10 == nilai_c % 10) :\n",
        "        return True\n",
        "    elif (nilai_b %10 == nilai_c %10) :\n",
        "        return True\n",
        "    else :\n",
        "        return False\n",
        "hasilnya = cek_digit_belakang(nilai_a, nilai_b, nilai_c)\n",
        "print(hasilnya)"
      ],
      "metadata": {
        "id": "OZLjWWxMReBk",
        "outputId": "3a88e79c-0345-4eb7-a52e-b65ba61c1825",
        "colab": {
          "base_uri": "https://localhost:8080/"
        }
      },
      "execution_count": 25,
      "outputs": [
        {
          "output_type": "stream",
          "name": "stdout",
          "text": [
            "Digit Kanan 1 :\n",
            ">> 71\n",
            "Digit Kanan 2 :\n",
            ">> 187\n",
            "Digit Kanan 3 :\n",
            ">> 18\n",
            "False\n"
          ]
        }
      ]
    }
  ],
  "metadata": {
    "colab": {
      "name": "Selamat Datang di Colaboratory",
      "toc_visible": true,
      "provenance": []
    },
    "kernelspec": {
      "display_name": "Python 3",
      "name": "python3"
    }
  },
  "nbformat": 4,
  "nbformat_minor": 0
}