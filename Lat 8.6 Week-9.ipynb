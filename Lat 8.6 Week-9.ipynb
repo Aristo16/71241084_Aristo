{
  "cells": [
    {
      "cell_type": "code",
      "source": [
        "import re\n",
        "import random\n",
        "teks = \"\"\"Berikut adalah daftar email dan nama pengguna dari mailing list:\n",
        "anton@mail.com dimiliki oleh antonius\n",
        "budi@gmail.co.id dimiliki oleh budi anwari\n",
        "slamet@getnada.com dimiliki oleh slamet slumut\n",
        "matahari@tokopedia.com dimiliki oleh toko matahari\"\"\"\n",
        "email_list = re.findall(r'\\S+@\\S+', teks)\n",
        "karakter = list('abcdefghijklmnopqrstuvwxyzABCDEFGHIJKLMNOPQRSTUVWXYZ0123456789')\n",
        "for email in email_list:\n",
        "    username = email.split('@')[0]\n",
        "    password = ''\n",
        "    for i in range(8):\n",
        "        password += random.choice(karakter)\n",
        "    print(f\"{email} username: {username} , password: {password}\")"
      ],
      "metadata": {
        "id": "cuLeWXHtU0wV",
        "outputId": "1ddcf14f-f5e7-42cd-b81c-7413af1576fe",
        "colab": {
          "base_uri": "https://localhost:8080/"
        }
      },
      "execution_count": 4,
      "outputs": [
        {
          "output_type": "stream",
          "name": "stdout",
          "text": [
            "anton@mail.com username: anton , password: jQzhH8Kw\n",
            "budi@gmail.co.id username: budi , password: KdSv1KIe\n",
            "slamet@getnada.com username: slamet , password: Oau8rCi2\n",
            "matahari@tokopedia.com username: matahari , password: HGqIp8KW\n"
          ]
        }
      ]
    }
  ],
  "metadata": {
    "colab": {
      "name": "Selamat Datang di Colab",
      "toc_visible": true,
      "provenance": []
    },
    "kernelspec": {
      "display_name": "Python 3",
      "name": "python3"
    }
  },
  "nbformat": 4,
  "nbformat_minor": 0
}