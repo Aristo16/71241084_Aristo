{
  "cells": [
    {
      "cell_type": "code",
      "source": [
        "def hitung_ips():\n",
        "    jumlah_mata_kuliah = int(input(\"Masukkan jumlah mata kuliah: \"))\n",
        "    total_nilai = 0\n",
        "    total_sks = 0\n",
        "    for a in range(jumlah_mata_kuliah):\n",
        "        nilai = input(f\"Masukkan nilai MK {a + 1}: \")\n",
        "        if nilai == 'A':\n",
        "            bobot = 4\n",
        "        elif nilai == 'B':\n",
        "            bobot = 3\n",
        "        elif nilai == 'C':\n",
        "            bobot = 2\n",
        "        elif nilai == 'D':\n",
        "            bobot = 1\n",
        "        sks = 3\n",
        "        total_nilai += bobot * sks\n",
        "        total_sks += sks\n",
        "    if total_sks > 0:\n",
        "        print(f\"IPS anda semester ini : {total_nilai / total_sks:.2f} \")\n",
        "hitung_ips()"
      ],
      "metadata": {
        "id": "1jwq6A-4frjp",
        "outputId": "c9aca4d6-2461-418f-ccfc-0a5c3e8241eb",
        "colab": {
          "base_uri": "https://localhost:8080/"
        }
      },
      "execution_count": 8,
      "outputs": [
        {
          "output_type": "stream",
          "name": "stdout",
          "text": [
            "Masukkan jumlah mata kuliah: 6\n",
            "Masukkan nilai MK 1: A\n",
            "Masukkan nilai MK 2: A\n",
            "Masukkan nilai MK 3: B\n",
            "Masukkan nilai MK 4: B\n",
            "Masukkan nilai MK 5: C\n",
            "Masukkan nilai MK 6: C\n",
            "IPS anda semester ini : 3.00 \n"
          ]
        }
      ]
    }
  ],
  "metadata": {
    "colab": {
      "name": "Selamat Datang di Colaboratory",
      "toc_visible": true,
      "provenance": []
    },
    "kernelspec": {
      "display_name": "Python 3",
      "name": "python3"
    }
  },
  "nbformat": 4,
  "nbformat_minor": 0
}