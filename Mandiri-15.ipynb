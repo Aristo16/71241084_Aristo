{
  "cells": [
    {
      "cell_type": "code",
      "source": [
        "# Soal 1\n",
        "def prima(angka, bagi = 2):\n",
        "    if angka < 2:\n",
        "        return \"Bukan Prima\"\n",
        "    if bagi * bagi > angka:\n",
        "        return \"Prima\"\n",
        "    if angka % bagi == 0:\n",
        "        return \"Bukan Prima\"\n",
        "    return prima(angka, bagi + 1)\n",
        "print(prima(67))\n",
        "print(prima(12))"
      ],
      "metadata": {
        "id": "yL3jD6JhAEkP",
        "outputId": "f70fb042-8730-4e58-fd4e-4555f7e85c2c",
        "colab": {
          "base_uri": "https://localhost:8080/"
        }
      },
      "execution_count": 1,
      "outputs": [
        {
          "output_type": "stream",
          "name": "stdout",
          "text": [
            "Prima\n",
            "Bukan Prima\n"
          ]
        }
      ]
    },
    {
      "cell_type": "code",
      "source": [
        "# Soal 2\n",
        "def palindrom(teks):\n",
        "    teks = teks.replace(\" \", \"\")\n",
        "    kata = teks.lower()\n",
        "    if len(kata) <= 1:\n",
        "        return \"palindrom\"\n",
        "    if kata[0] != kata[-1]:\n",
        "        return \"bukan palindrom\"\n",
        "    return palindrom(kata[1:len(kata)-1])\n",
        "print(palindrom(\"ibu ratna antar ubi\"))\n",
        "print(palindrom(\"Aku ganteng\"))"
      ],
      "metadata": {
        "id": "yMdsvARTAOzU",
        "outputId": "f36842b9-bba2-4737-da91-6695d48c237a",
        "colab": {
          "base_uri": "https://localhost:8080/"
        }
      },
      "execution_count": 2,
      "outputs": [
        {
          "output_type": "stream",
          "name": "stdout",
          "text": [
            "palindrom\n",
            "bukan palindrom\n"
          ]
        }
      ]
    },
    {
      "cell_type": "code",
      "source": [
        "# Soal 3\n",
        "def hitung_deret(angka):\n",
        "    if angka == 0:\n",
        "        return 0\n",
        "    else:\n",
        "        return 2 * angka + hitung_deret(angka - 1) - 1\n",
        "print(hitung_deret(5))\n",
        "print(hitung_deret(10))"
      ],
      "metadata": {
        "id": "1FBikxDEAR_U",
        "outputId": "42e6e5a1-c27b-4730-d8e6-7d8ad6c0079e",
        "colab": {
          "base_uri": "https://localhost:8080/"
        }
      },
      "execution_count": 3,
      "outputs": [
        {
          "output_type": "stream",
          "name": "stdout",
          "text": [
            "25\n",
            "100\n"
          ]
        }
      ]
    },
    {
      "cell_type": "code",
      "source": [
        "# Soal 4\n",
        "def jumlahkan_digit(nilai):\n",
        "    if nilai < 10:\n",
        "        return nilai\n",
        "    else:\n",
        "        return (nilai % 10) + jumlahkan_digit(nilai // 10)\n",
        "print(jumlahkan_digit(0))\n",
        "print(jumlahkan_digit(99))\n",
        "print(jumlahkan_digit(234))"
      ],
      "metadata": {
        "id": "2bnnlz6UAUxi",
        "outputId": "2a1f80ed-f834-45ad-d551-8ea41dfe7b04",
        "colab": {
          "base_uri": "https://localhost:8080/"
        }
      },
      "execution_count": 4,
      "outputs": [
        {
          "output_type": "stream",
          "name": "stdout",
          "text": [
            "0\n",
            "18\n",
            "9\n"
          ]
        }
      ]
    },
    {
      "cell_type": "code",
      "source": [
        "def kombinasi(nilai1, nilai2):\n",
        "    if nilai2 == 0 or nilai2 == nilai1 :\n",
        "        return 1\n",
        "    else:\n",
        "        return kombinasi(nilai1-1, nilai2-1) + kombinasi( nilai1-1, nilai2)\n",
        "print(kombinasi(5,2))\n",
        "print(kombinasi(4,2))"
      ],
      "metadata": {
        "id": "5H1YVO6OAYOX",
        "outputId": "153b7280-5bf4-4597-e1ca-68b2c1a97c98",
        "colab": {
          "base_uri": "https://localhost:8080/"
        }
      },
      "execution_count": 5,
      "outputs": [
        {
          "output_type": "stream",
          "name": "stdout",
          "text": [
            "10\n",
            "6\n"
          ]
        }
      ]
    }
  ],
  "metadata": {
    "colab": {
      "name": "Selamat Datang di Colab",
      "toc_visible": true,
      "provenance": []
    },
    "kernelspec": {
      "display_name": "Python 3",
      "name": "python3"
    }
  },
  "nbformat": 4,
  "nbformat_minor": 0
}