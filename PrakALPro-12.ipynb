{
  "cells": [
    {
      "cell_type": "code",
      "source": [
        "# Soal 11.1\n",
        "def tampilkan_info(nilai):\n",
        "    print(\"nilai key, value, dan item:\")\n",
        "    for key, value in nilai.items():\n",
        "        print(f\"{key}   {value}    {key}\")\n",
        "nilai = {1: 10, 2: 20, 3: 30, 4: 40, 5: 50, 6: 60}\n",
        "tampilkan_info(nilai)"
      ],
      "metadata": {
        "colab": {
          "base_uri": "https://localhost:8080/"
        },
        "id": "ZTU-tovgEblX",
        "outputId": "7a860584-c4ea-4180-d355-3edc81eb721c"
      },
      "execution_count": 2,
      "outputs": [
        {
          "output_type": "stream",
          "name": "stdout",
          "text": [
            "nilai key, value, dan item:\n",
            "1   10    1\n",
            "2   20    2\n",
            "3   30    3\n",
            "4   40    4\n",
            "5   50    5\n",
            "6   60    6\n"
          ]
        }
      ]
    },
    {
      "cell_type": "code",
      "source": [
        "# Soal 11.2\n",
        "def gabung_dict(warna, kode_hex):\n",
        "    print(dict(zip(warna, kode_hex)))\n",
        "daftar_warna = ['green', 'blue', 'red']\n",
        "daftar_kode = ['#008000', '#0000FF', '#FF0000']\n",
        "gabung_dict(daftar_warna, daftar_kode)"
      ],
      "metadata": {
        "id": "NOzvqkZmHyc8",
        "outputId": "281d19af-57b4-41d3-a5ab-a0dc5f34efd3",
        "colab": {
          "base_uri": "https://localhost:8080/"
        }
      },
      "execution_count": 5,
      "outputs": [
        {
          "output_type": "stream",
          "name": "stdout",
          "text": [
            "{'green': '#008000', 'blue': '#0000FF', 'red': '#FF0000'}\n"
          ]
        }
      ]
    },
    {
      "cell_type": "code",
      "source": [
        "# Soal 11.3\n",
        "def hitung_email(nama_berkas):\n",
        "    try:\n",
        "        with open(nama_berkas, 'r') as file:\n",
        "            data_email = {}\n",
        "            for baris in file:\n",
        "                baris = baris.strip()\n",
        "                if baris.startswith('From '):\n",
        "                    bagian = baris.split()\n",
        "                    alamat = bagian[1]\n",
        "                    data_email[alamat] = data_email.get(alamat, 0) + 1\n",
        "            return data_email\n",
        "    except FileNotFoundError:\n",
        "        print(\"Berkas tidak ditemukan.\")\n",
        "        return \"\"\n",
        "berkas_input = input(\"Masukkan nama berkas: \")\n",
        "hasil = hitung_email(berkas_input)\n",
        "print(hasil)"
      ],
      "metadata": {
        "id": "71I8HphTavDw"
      },
      "execution_count": null,
      "outputs": []
    },
    {
      "cell_type": "code",
      "source": [
        "# Soal 11.4\n",
        "def hitung_jumlah_pesan(nama_berkas):\n",
        "    try:\n",
        "        domain_dic = {}\n",
        "        with open(nama_berkas, 'r') as file:\n",
        "            for line in file:\n",
        "                if line.startswith(\"From \"):\n",
        "                    kata = line.strip().split()\n",
        "                    if len(kata) > 1:\n",
        "                        alamat_email = kata[1]\n",
        "                        nama_domain = alamat_email.split('@')[1]\n",
        "                        domain_dic[nama_domain] = domain_dic.get(nama_domain, 0) + 1\n",
        "        return domain_dic\n",
        "    except FileNotFoundError:\n",
        "        print(\"Berkas tidak ditemukan.\")\n",
        "        return \"\"\n",
        "berkas = input(\"Masukkan nama berkas: \")\n",
        "hasil = hitung_jumlah_pesan(berkas)\n",
        "print(hasil)"
      ],
      "metadata": {
        "id": "dqy8clG5bqK6"
      },
      "execution_count": null,
      "outputs": []
    }
  ],
  "metadata": {
    "colab": {
      "name": "Selamat Datang di Colab",
      "toc_visible": true,
      "provenance": []
    },
    "kernelspec": {
      "display_name": "Python 3",
      "name": "python3"
    }
  },
  "nbformat": 4,
  "nbformat_minor": 0
}