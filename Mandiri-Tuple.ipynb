{
  "cells": [
    {
      "cell_type": "code",
      "source": [
        "# Soal 12.1\n",
        "tupleA = (90, 90, 90, 90)\n",
        "sama = True\n",
        "for tuple in tupleA:\n",
        "    if tuple != tupleA[0]:\n",
        "        sama = False\n",
        "print(sama)"
      ],
      "metadata": {
        "id": "ecFEvk0m9I4T",
        "outputId": "54646791-2ab3-4ea0-ef9a-adfffbf7888e",
        "colab": {
          "base_uri": "https://localhost:8080/"
        }
      },
      "execution_count": 7,
      "outputs": [
        {
          "output_type": "stream",
          "name": "stdout",
          "text": [
            "True\n"
          ]
        }
      ]
    },
    {
      "cell_type": "code",
      "source": [
        "# Soal 12.2\n",
        "data_diri = ('Aristo Yoan Prasetyatama', '71241084', 'Jogja, DI Yogyakarta')\n",
        "print(\"Contoh :\")\n",
        "print(\"Data :\", data_diri)\n",
        "\n",
        "nama, nim, alamat = data_diri\n",
        "print(\"\\nNIM    :\", nim)\n",
        "print(\"NAMA   :\", nama)\n",
        "print(\"ALAMAT :\", alamat)\n",
        "\n",
        "print(\"\\nNIM:   \", tuple(nim))\n",
        "nama_depan = nama.split()[0]\n",
        "print(\"NAMA DEPAN:\", tuple(nama_depan))\n",
        "print(\"NAMA TERBALIK:\", tuple(nama.split()[::-1]))"
      ],
      "metadata": {
        "id": "DxqVxZ__9OeS",
        "outputId": "f2c8911f-1397-4507-9b9b-80879eb8745d",
        "colab": {
          "base_uri": "https://localhost:8080/"
        }
      },
      "execution_count": 2,
      "outputs": [
        {
          "output_type": "stream",
          "name": "stdout",
          "text": [
            "Contoh:\n",
            "Data : ('Aristo Yoan Prasetyatama', '71241084', 'Jogja, DI Yogyakarta')\n",
            "\n",
            "NIM    : 71241084\n",
            "NAMA   : Aristo Yoan Prasetyatama\n",
            "ALAMAT : Jogja, DI Yogyakarta\n",
            "\n",
            "NIM:    ('7', '1', '2', '4', '1', '0', '8', '4')\n",
            "NAMA DEPAN: ('A', 'r', 'i', 's', 't', 'o')\n",
            "NAMA TERBALIK: ('Prasetyatama', 'Yoan', 'Aristo')\n"
          ]
        }
      ]
    },
    {
      "cell_type": "code",
      "source": [
        "# Soal 12.3\n",
        "filename = input(\"Masukkan nama file: \")\n",
        "try:\n",
        "    file = open(filename)\n",
        "except:\n",
        "    print(\"Tidak bisa membuka file.\")\n",
        "hasil_jam = {}\n",
        "for baris in file:\n",
        "    if baris.startswith(\"From \"):\n",
        "        kata = baris.split()\n",
        "        if len(kata) >= 6:\n",
        "            waktu = kata[5]\n",
        "            jam = waktu.split(\":\")[0]\n",
        "            if jam in hasil_jam:\n",
        "                hasil_jam[jam] += 1\n",
        "            else:\n",
        "                hasil_jam[jam] = 1\n",
        "for kunci in sorted(hasil_jam):\n",
        "    print(kunci, hasil_jam[kunci])"
      ],
      "metadata": {
        "id": "iz-_sr5s-2H1"
      },
      "execution_count": null,
      "outputs": []
    }
  ],
  "metadata": {
    "colab": {
      "name": "Selamat Datang di Colab",
      "toc_visible": true,
      "provenance": []
    },
    "kernelspec": {
      "display_name": "Python 3",
      "name": "python3"
    }
  },
  "nbformat": 4,
  "nbformat_minor": 0
}