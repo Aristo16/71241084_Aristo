{
  "cells": [
    {
      "cell_type": "code",
      "source": [
        "def gaji_pengeluaran(gaji_selama_1jam, lama_jam_kerja):\n",
        "    sebelum_ada_pajak = gaji_selama_1jam * lama_jam_kerja * 5 #minggu\n",
        "    setelah_ada_pajak = sebelum_ada_pajak - ((14/100) * sebelum_ada_pajak)\n",
        "    fashion = setelah_ada_pajak * (10/100)\n",
        "    sisa_fashion = setelah_ada_pajak - fashion\n",
        "    alat_tulis = sisa_fashion * (1/100)\n",
        "    sisa_alat_tulis = sisa_fashion - alat_tulis\n",
        "    infaq =  sisa_alat_tulis * (25/100)\n",
        "    anak_yatim = infaq * (30/100)\n",
        "    kurang_mampu = infaq - anak_yatim\n",
        "    return sebelum_ada_pajak, setelah_ada_pajak, fashion, alat_tulis, infaq, anak_yatim, kurang_mampu\n",
        "\n",
        "gaji_selama_1jam = int(input(\"Gaji 1 jam yang di inginkan = \"))\n",
        "lama_jam_kerja = int(input(\"Jumlah jam kerja selama 1 minggu = \"))\n",
        "\n",
        "hasil = gaji_pengeluaran(gaji_selama_1jam, lama_jam_kerja)\n",
        "\n",
        "print(f\"Pendapatan Budi selama libur musim panas sebelum melakukan pembayaran pajak sebesar Rp{hasil[0]}\")\n",
        "print(f\"Pendapatan Budi selama libur musim panas setelah melakukan pembayaran pajak sebesar Rp{round(hasil[1])}\")\n",
        "print(f\"Jumlah uang yang telah Budi habiskan untuk membeli pakaian dan aksesoris adalah Rp{round(hasil[2])}\")\n",
        "print(f\"Jumlah uang yang Budi habiskan untuk membeli alat tulis Rp{round(hasil[3])}\")\n",
        "print(f\"Jumlah uang yang Budi sedekahkan sebesar Rp{round(hasil[4])}\")\n",
        "print(f\"Jumlah uang yang diterima anak yatim Rp{round(hasil[5])}\")\n",
        "print(f\"Jumlah uang yang diterima kaum dhuafa Rp{round(hasil[6])}\")"
      ],
      "metadata": {
        "id": "3O7uAg23FYfK",
        "outputId": "8adc98d7-1262-4b7d-d3de-b2b5a5710254",
        "colab": {
          "base_uri": "https://localhost:8080/"
        }
      },
      "execution_count": 4,
      "outputs": [
        {
          "output_type": "stream",
          "name": "stdout",
          "text": [
            "Gaji 1 jam yang di inginkan = 1000000\n",
            "Jumlah jam kerja selama 1 minggu = 20\n",
            "Pendapatan Budi selama libur musim panas sebelum melakukan pembayaran pajak sebesar Rp100000000\n",
            "Pendapatan Budi selama libur musim panas setelah melakukan pembayaran pajak sebesar Rp86000000\n",
            "Jumlah uang yang telah Budi habiskan untuk membeli pakaian dan aksesoris adalah Rp8600000\n",
            "Jumlah uang yang Budi habiskan untuk membeli alat tulis Rp774000\n",
            "Jumlah uang yang Budi sedekahkan sebesar Rp19156500\n",
            "Jumlah uang yang diterima anak yatim Rp5746950\n",
            "Jumlah uang yang diterima kaum dhuafa Rp13409550\n"
          ]
        }
      ]
    }
  ],
  "metadata": {
    "colab": {
      "name": "Selamat Datang di Colaboratory",
      "toc_visible": true,
      "provenance": []
    },
    "kernelspec": {
      "display_name": "Python 3",
      "name": "python3"
    }
  },
  "nbformat": 4,
  "nbformat_minor": 0
}