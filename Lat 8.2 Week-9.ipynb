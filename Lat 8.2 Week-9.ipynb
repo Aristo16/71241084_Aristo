{
  "cells": [
    {
      "cell_type": "code",
      "source": [
        "def hitung_kata(teks, kata_cari):\n",
        "    teks = teks.lower()\n",
        "    kata_cari = kata_cari.lower()\n",
        "    tanda_baca = '.'\n",
        "    for i in tanda_baca:\n",
        "        teks = teks.replace(i, '')\n",
        "    kata_list = teks.split()\n",
        "    jumlah = kata_list.count(kata_cari)\n",
        "    print(f\"Jumlah kata '{kata_cari}' ada {jumlah} buah.\")\n",
        "kalimat = \"Saya mau makan. Makan itu wajib. Mau siang atau malam saya wajib makan\"\n",
        "kata_yang_dicari = \"makan\"\n",
        "hitung_kata(kalimat, kata_yang_dicari)"
      ],
      "metadata": {
        "id": "vJQTRA7AONXw",
        "outputId": "06808282-adbf-40ef-a0ba-023ac14f250a",
        "colab": {
          "base_uri": "https://localhost:8080/"
        }
      },
      "execution_count": 2,
      "outputs": [
        {
          "output_type": "stream",
          "name": "stdout",
          "text": [
            "Jumlah kata 'makan' ada 3 buah.\n"
          ]
        }
      ]
    }
  ],
  "metadata": {
    "colab": {
      "name": "Selamat Datang di Colab",
      "toc_visible": true,
      "provenance": []
    },
    "kernelspec": {
      "display_name": "Python 3",
      "name": "python3"
    }
  },
  "nbformat": 4,
  "nbformat_minor": 0
}