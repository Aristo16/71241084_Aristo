{
  "cells": [
    {
      "cell_type": "code",
      "source": [
        "A = int(input(\"Celcius : \\n>>\"))\n",
        "C = str(input(\"F atau R ? \\n>> \"))\n",
        "X = 0\n",
        "def suhu(A,C,X):\n",
        "    if C == \"F\" :\n",
        "        X = (9/5) * A + 32\n",
        "        return X\n",
        "    elif C == \"R\" :\n",
        "        X = 0.8 * A\n",
        "        return X\n",
        "hasilnya = suhu(A, C, X)\n",
        "print(hasilnya)"
      ],
      "metadata": {
        "colab": {
          "base_uri": "https://localhost:8080/"
        },
        "id": "9KolQUxRJSem",
        "outputId": "cf31abb0-347c-47fe-b89d-8238d6878c47"
      },
      "execution_count": 14,
      "outputs": [
        {
          "output_type": "stream",
          "name": "stdout",
          "text": [
            "Celcius : \n",
            ">>100\n",
            "F atau R ? \n",
            ">> F\n",
            "212.0\n"
          ]
        }
      ]
    },
    {
      "cell_type": "code",
      "source": [
        "A = int(input(\"Celcius : \\n>>\"))\n",
        "C = str(input(\"F atau R ? \\n>> \"))\n",
        "X = 0\n",
        "def suhu(A,C,X):\n",
        "    if C == \"F\" :\n",
        "        X = (9/5) * A + 32\n",
        "        return X\n",
        "    elif C == \"R\" :\n",
        "        X = 0.8 * A\n",
        "        return X\n",
        "hasilnya = suhu(A, C, X)\n",
        "print(hasilnya)"
      ],
      "metadata": {
        "id": "faOZZxQIPBdq",
        "outputId": "ef581200-2ecf-46c3-b86b-acbe07bcb4e3",
        "colab": {
          "base_uri": "https://localhost:8080/"
        }
      },
      "execution_count": 16,
      "outputs": [
        {
          "output_type": "stream",
          "name": "stdout",
          "text": [
            "Celcius : \n",
            ">>80\n",
            "F atau R ? \n",
            ">> R\n",
            "64.0\n"
          ]
        }
      ]
    },
    {
      "cell_type": "code",
      "source": [
        "A = int(input(\"Celcius : \\n>>\"))\n",
        "C = str(input(\"F atau R ? \\n>> \"))\n",
        "X = 0\n",
        "def suhu(A,C,X):\n",
        "    if C == \"F\" :\n",
        "        X = (9/5) * A + 32\n",
        "        return X\n",
        "    elif C == \"R\" :\n",
        "        X = 0.8 * A\n",
        "        return X\n",
        "hasilnya = suhu(A, C, X)\n",
        "print(hasilnya)"
      ],
      "metadata": {
        "id": "IGkNwiIHPOgR",
        "outputId": "4c0f3be1-57d0-4ddf-9794-17e10ad75408",
        "colab": {
          "base_uri": "https://localhost:8080/"
        }
      },
      "execution_count": 17,
      "outputs": [
        {
          "output_type": "stream",
          "name": "stdout",
          "text": [
            "Celcius : \n",
            ">>0\n",
            "F atau R ? \n",
            ">> F\n",
            "32.0\n"
          ]
        }
      ]
    }
  ],
  "metadata": {
    "colab": {
      "name": "Selamat Datang di Colaboratory",
      "toc_visible": true,
      "provenance": []
    },
    "kernelspec": {
      "display_name": "Python 3",
      "name": "python3"
    }
  },
  "nbformat": 4,
  "nbformat_minor": 0
}