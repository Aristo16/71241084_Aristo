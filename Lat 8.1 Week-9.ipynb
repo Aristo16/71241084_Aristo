{
  "cells": [
    {
      "cell_type": "code",
      "source": [
        "def cek_anagram(kata_pertama, kata_kedua):\n",
        "    kata_pertama = kata_pertama.replace(\" \", \"\").lower()\n",
        "    kata_kedua = kata_kedua.replace(\" \", \"\").lower()\n",
        "    if len(kata_pertama) != len(kata_kedua):\n",
        "        return False\n",
        "    return sorted(kata_pertama) == sorted(kata_kedua)\n",
        "kata_pertama = input(\"Kata pertama : \")\n",
        "kata_kedua = input(\"Kata kedua : \")\n",
        "if cek_anagram(kata_pertama, kata_kedua):\n",
        "    print(f'\"{kata_pertama}\", adalah anagram dari==> \"{kata_kedua}\"')\n",
        "else:\n",
        "    print(f'\"{kata_pertama}\", bukan anagram dari==> \"{kata_kedua}\"')"
      ],
      "metadata": {
        "id": "hIL7eVSi9WJk",
        "outputId": "5f9b89f6-7130-4e33-aad9-34c390173338",
        "colab": {
          "base_uri": "https://localhost:8080/"
        }
      },
      "execution_count": 2,
      "outputs": [
        {
          "output_type": "stream",
          "name": "stdout",
          "text": [
            "Kata pertama : atma\n",
            "Kata kedua : mata\n",
            "\"atma\", adalah anagram dari==> \"mata\"\n"
          ]
        }
      ]
    }
  ],
  "metadata": {
    "colab": {
      "name": "Selamat Datang di Colab",
      "toc_visible": true,
      "provenance": []
    },
    "kernelspec": {
      "display_name": "Python 3",
      "name": "python3"
    }
  },
  "nbformat": 4,
  "nbformat_minor": 0
}