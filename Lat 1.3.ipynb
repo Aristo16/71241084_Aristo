{
  "cells": [
    {
      "cell_type": "code",
      "execution_count": 44,
      "metadata": {
        "colab": {
          "base_uri": "https://localhost:8080/"
        },
        "id": "Fima1qkCYlo1",
        "outputId": "b3c543c8-0c5c-4f78-c523-028daa9c4014"
      },
      "outputs": [
        {
          "name": "stdout",
          "output_type": "stream",
          "text": [
            "Waktu yang diperlukan untuk mendapat target minimal = 8 tahun\n",
            "Lama-nya deposito? = 8 tahun, Maka akan mendapat target sebesar = 428717762.00jt\n"
          ]
        }
      ],
      "source": [
        "def compoundinterest(saldoAwal, targetSaldo, targetBerapatahun):\n",
        "  saldoAwal = 200000000\n",
        "  targetSaldo = 400000000\n",
        "  bungaBank = 0.10\n",
        "  tahun = 8\n",
        "  while True :\n",
        "    targetSaldo = saldoAwal * (1+bungaBank) **(tahun)\n",
        "    if targetSaldo < targetBerapatahun :\n",
        "      tahun += 1\n",
        "    elif targetSaldo > targetBerapatahun :\n",
        "      return [tahun, targetSaldo]\n",
        "    else :\n",
        "      return [tahun, targetSaldo]\n",
        "\n",
        "tes = compoundinterest(200,400,0.1)\n",
        "print(f\"Waktu yang diperlukan untuk mendapat target minimal = {tes[0]} tahun\")\n",
        "print(f\"Lama-nya deposito? = {tes[0]} tahun, Maka akan mendapat target sebesar = {tes[1]:.2f}jt\")"
      ]
    }
  ],
  "metadata": {
    "colab": {
      "name": "Selamat Datang di Colaboratory",
      "provenance": [],
      "toc_visible": true
    },
    "kernelspec": {
      "display_name": "Python 3",
      "name": "python3"
    }
  },
  "nbformat": 4,
  "nbformat_minor": 0
}
