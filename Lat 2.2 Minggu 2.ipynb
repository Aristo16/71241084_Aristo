{
  "cells": [
    {
      "cell_type": "code",
      "source": [
        "def fungsi(x):\n",
        "    x = 2*(x**3)+2*x+15/x\n",
        "    return x\n",
        "\n",
        "a = int(input(\"Masukkan nilai x = \"))\n",
        "b = fungsi(a)\n",
        "print(\"Hasil = \", b)"
      ],
      "metadata": {
        "id": "tGg0ayVdPAQs",
        "outputId": "4ec37d3a-54ba-44ac-b29e-7a79a8eae041",
        "colab": {
          "base_uri": "https://localhost:8080/"
        }
      },
      "execution_count": 1,
      "outputs": [
        {
          "output_type": "stream",
          "name": "stdout",
          "text": [
            "Masukkan nilai x = 15\n",
            "Hasil =  6781.0\n"
          ]
        }
      ]
    }
  ],
  "metadata": {
    "colab": {
      "name": "Selamat Datang di Colaboratory",
      "toc_visible": true,
      "provenance": []
    },
    "kernelspec": {
      "display_name": "Python 3",
      "name": "python3"
    }
  },
  "nbformat": 4,
  "nbformat_minor": 0
}