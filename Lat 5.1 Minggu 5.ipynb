{
  "cells": [
    {
      "cell_type": "code",
      "source": [
        "nilai_a = int(input(\"Masukkan Angka 1 :\\n>> \"))\n",
        "nilai_b = int(input(\"Masukkan Angka 2 :\\n>> \"))\n",
        "nilai_c = int(input(\"Masukkan Angka 3 :\\n>> \"))\n",
        "def cek_angka(nilai_a, nilai_b, nilai_c) :\n",
        "    if (nilai_a + nilai_b == nilai_c) :\n",
        "        return True\n",
        "    elif (nilai_a + nilai_c == nilai_b) :\n",
        "        return True\n",
        "    elif (nilai_b + nilai_a == nilai_c) :\n",
        "        return True\n",
        "    else :\n",
        "        return False\n",
        "hasilnya = cek_angka(nilai_a, nilai_b, nilai_c )\n",
        "print(hasilnya)"
      ],
      "metadata": {
        "id": "qZV9FlrtBUTT",
        "outputId": "98333c81-de6e-41eb-a83f-f7be9a53c070",
        "colab": {
          "base_uri": "https://localhost:8080/"
        }
      },
      "execution_count": 1,
      "outputs": [
        {
          "output_type": "stream",
          "name": "stdout",
          "text": [
            "Masukkan Angka 1 :\n",
            ">> 1\n",
            "Masukkan Angka 2 :\n",
            ">> 2\n",
            "Masukkan Angka 3 :\n",
            ">> 3\n",
            "True\n"
          ]
        }
      ]
    }
  ],
  "metadata": {
    "colab": {
      "name": "Selamat Datang di Colaboratory",
      "toc_visible": true,
      "provenance": []
    },
    "kernelspec": {
      "display_name": "Python 3",
      "name": "python3"
    }
  },
  "nbformat": 4,
  "nbformat_minor": 0
}