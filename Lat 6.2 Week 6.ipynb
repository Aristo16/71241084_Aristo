{
  "cells": [
    {
      "cell_type": "code",
      "source": [
        "def ganjil(bawah, atas):\n",
        "    if bawah < atas:\n",
        "        for a in range(bawah, atas + 1):\n",
        "            if a % 2 != 0:\n",
        "                print(a, end=\"\")\n",
        "                if a < atas - 1:\n",
        "                    print(end=\", \")\n",
        "    else:\n",
        "        for a in range(bawah, atas - 1, -1):\n",
        "            if a % 2 != 0:\n",
        "                print(a, end=\"\")\n",
        "                if a > atas + 1:\n",
        "                    print(end=\", \")\n",
        "    print(\".\")\n",
        "bawah = int(input(\"Batas Bawah Berapa\\n>> \"))\n",
        "atas = int(input(\"Batas Atas Berapa\\n>> \"))\n",
        "ganjil(bawah, atas)"
      ],
      "metadata": {
        "id": "MeSCT4ShaamC",
        "outputId": "dd46bfb6-01e6-44a1-810e-81fd1a33d99f",
        "colab": {
          "base_uri": "https://localhost:8080/"
        }
      },
      "execution_count": 6,
      "outputs": [
        {
          "output_type": "stream",
          "name": "stdout",
          "text": [
            "Batas Bawah Berapa\n",
            ">> 10\n",
            "Batas Atas Berapa\n",
            ">> 30\n",
            "11, 13, 15, 17, 19, 21, 23, 25, 27, 29.\n"
          ]
        }
      ]
    },
    {
      "cell_type": "code",
      "source": [
        "def ganjil(bawah, atas):\n",
        "    if bawah < atas:\n",
        "        for a in range(bawah, atas + 1):\n",
        "            if a % 2 != 0:\n",
        "                print(a, end=\"\")\n",
        "                if a < atas - 1:\n",
        "                    print(end=\", \")\n",
        "    else:\n",
        "        for a in range(bawah, atas - 1, -1):\n",
        "            if a % 2 != 0:\n",
        "                print(a, end=\"\")\n",
        "                if a > atas + 1:\n",
        "                    print(end=\", \")\n",
        "    print(\".\")\n",
        "bawah = int(input(\"Batas Bawah Berapa\\n>> \"))\n",
        "atas = int(input(\"Batas Atas Berapa\\n>> \"))\n",
        "ganjil(bawah, atas)"
      ],
      "metadata": {
        "id": "el1pZO9mafyA",
        "outputId": "9f24629e-a4be-490f-dcbe-2722c0f092d0",
        "colab": {
          "base_uri": "https://localhost:8080/"
        }
      },
      "execution_count": 7,
      "outputs": [
        {
          "output_type": "stream",
          "name": "stdout",
          "text": [
            "Batas Bawah Berapa\n",
            ">> 97\n",
            "Batas Atas Berapa\n",
            ">> 82\n",
            "97, 95, 93, 91, 89, 87, 85, 83.\n"
          ]
        }
      ]
    }
  ],
  "metadata": {
    "colab": {
      "name": "Selamat Datang di Colaboratory",
      "toc_visible": true,
      "provenance": []
    },
    "kernelspec": {
      "display_name": "Python 3",
      "name": "python3"
    }
  },
  "nbformat": 4,
  "nbformat_minor": 0
}