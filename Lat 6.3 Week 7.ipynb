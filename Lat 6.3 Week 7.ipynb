{
  "cells": [
    {
      "cell_type": "code",
      "source": [
        "def ularAngka(baris, samping):\n",
        "    if samping < 1 or baris < 1:\n",
        "        print(\"Tidak terdefinisikan\")\n",
        "        return\n",
        "    angka = 1\n",
        "    for i in range(baris):\n",
        "        if i % 2 == 0:\n",
        "            for j in range(samping):\n",
        "                print(f\"{angka}\", end=\" \")\n",
        "                angka += 1\n",
        "        else:\n",
        "            for j in range(samping):\n",
        "                print(f\"{angka}\", end=\" \")\n",
        "                angka += 1\n",
        "        print()\n",
        "ularAngka(5,4)"
      ],
      "metadata": {
        "id": "OfAxFqg1X5SE",
        "outputId": "3adef886-781c-4a9b-e9df-aed6fecdee0a",
        "colab": {
          "base_uri": "https://localhost:8080/"
        }
      },
      "execution_count": 6,
      "outputs": [
        {
          "output_type": "stream",
          "name": "stdout",
          "text": [
            "1 2 3 4 \n",
            "5 6 7 8 \n",
            "9 10 11 12 \n",
            "13 14 15 16 \n",
            "17 18 19 20 \n"
          ]
        }
      ]
    }
  ],
  "metadata": {
    "colab": {
      "name": "Selamat Datang di Colaboratory",
      "toc_visible": true,
      "provenance": []
    },
    "kernelspec": {
      "display_name": "Python 3",
      "name": "python3"
    }
  },
  "nbformat": 4,
  "nbformat_minor": 0
}