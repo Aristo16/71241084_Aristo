{
  "cells": [
    {
      "cell_type": "code",
      "source": [
        "import re\n",
        "from datetime import datetime\n",
        "teks_soal = \"\"\"Pada tanggal 1945-08-17 Indonesia merdeka. Indonesia memiliki beberapa pahlawan nasional,\n",
        "seperti Pangeran Diponegoro (TL: 1785-11-11), Pattimura (TL: 1783-06-08) dan Ki Hajar Dewantara (1889-05-02).\"\"\"\n",
        "tanggal = re.findall(r'\\d{4}-\\d{2}-\\d{2}', teks_soal)\n",
        "tanggal_hari_ini = datetime.now()\n",
        "for tanggal_str in tanggal :\n",
        "    tanggal_yang_dicari = datetime.strptime(tanggal_str, \"%Y-%m-%d\")\n",
        "    selisih = (tanggal_hari_ini - tanggal_yang_dicari).days\n",
        "    print(f\"{tanggal_yang_dicari} selisih {selisih} hari\")"
      ],
      "metadata": {
        "id": "JuINmEQjRsi9",
        "outputId": "05bd91e3-5e4c-436f-ea93-194e26e4c9dd",
        "colab": {
          "base_uri": "https://localhost:8080/"
        }
      },
      "execution_count": 3,
      "outputs": [
        {
          "output_type": "stream",
          "name": "stdout",
          "text": [
            "1945-08-17 00:00:00 selisih 29108 hari\n",
            "1785-11-11 00:00:00 selisih 87460 hari\n",
            "1783-06-08 00:00:00 selisih 88347 hari\n",
            "1889-05-02 00:00:00 selisih 49668 hari\n"
          ]
        }
      ]
    }
  ],
  "metadata": {
    "colab": {
      "name": "Selamat Datang di Colab",
      "toc_visible": true,
      "provenance": []
    },
    "kernelspec": {
      "display_name": "Python 3",
      "name": "python3"
    }
  },
  "nbformat": 4,
  "nbformat_minor": 0
}