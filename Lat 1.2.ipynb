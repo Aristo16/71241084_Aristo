{
  "cells": [
    {
      "cell_type": "code",
      "execution_count": 3,
      "metadata": {
        "colab": {
          "base_uri": "https://localhost:8080/"
        },
        "id": "_QuKnUMkh_j1",
        "outputId": "ec5d08a0-de64-473f-a68a-875d252a798e"
      },
      "outputs": [
        {
          "name": "stdout",
          "output_type": "stream",
          "text": [
            "keuntungan_pertama: 875000\n",
            "keuntungan gerard dalam persen: 5.4 %\n",
            "total keuntungan : 2075000\n",
            "total semua keuntungan dalam persen: 7.82 %\n"
          ]
        }
      ],
      "source": [
        "harga_awal = 650000\n",
        "harga_sekarang = 685000\n",
        "berat_emas_1 = 25\n",
        "\n",
        "keuntungan_uang_pertama = (harga_sekarang-harga_awal)*berat_emas_1\n",
        "keuntungan_persen = ((harga_sekarang-harga_awal)/harga_awal) *100\n",
        "\n",
        "print(\"keuntungan_pertama:\",keuntungan_uang_pertama)\n",
        "print(f\"keuntungan gerard dalam persen: {keuntungan_persen:.1f} %\")\n",
        "\n",
        "harga_sekarang = 685000\n",
        "berat_emas_2 = 15\n",
        "harga_kenaikan_emas =715000\n",
        "total_berat_kedua_emas = 40\n",
        "\n",
        "keuntungan_awal_25gram = (harga_kenaikan_emas - harga_awal) *berat_emas_1\n",
        "keuntungan_sekarang_15gram = (harga_kenaikan_emas - harga_sekarang) *berat_emas_2\n",
        "total_keuntungan = keuntungan_sekarang_15gram + keuntungan_awal_25gram\n",
        "harga_beli = ((berat_emas_1 * harga_awal)+(berat_emas_2 *harga_sekarang))/ total_berat_kedua_emas\n",
        "keuntungan_total_persen = ((harga_kenaikan_emas-harga_beli)/harga_beli) *100\n",
        "\n",
        "print(\"total keuntungan :\",total_keuntungan)\n",
        "print(f\"total semua keuntungan dalam persen: {keuntungan_total_persen:.2f} %\")"
      ]
    }
  ],
  "metadata": {
    "colab": {
      "name": "Selamat Datang di Colaboratory",
      "provenance": [],
      "toc_visible": true
    },
    "kernelspec": {
      "display_name": "anaconda3",
      "language": "python",
      "name": "python3"
    },
    "language_info": {
      "name": "python",
      "version": "undefined.undefined.undefined"
    }
  },
  "nbformat": 4,
  "nbformat_minor": 0
}
